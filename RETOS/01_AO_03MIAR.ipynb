{
 "cells": [
  {
   "attachments": {},
   "cell_type": "markdown",
   "id": "5bae1ac7",
   "metadata": {},
   "source": [
    "<font color=\"#002856\"><h1 align=\"left\">Algoritmos de optimización</h1></font>\n",
    "<font color=\"#002856\"><h2 align=\"left\">VC-1 Introducción a los algoritmos</h2></font> \n",
    "\n",
    "#### Profesor: Juan Francisco Vallalta Rueda\n",
    "---"
   ]
  },
  {
   "attachments": {},
   "cell_type": "markdown",
   "id": "d6a8c0a8",
   "metadata": {},
   "source": [
    "# Medir el tiempo de ejecución"
   ]
  },
  {
   "attachments": {},
   "cell_type": "markdown",
   "id": "e37d9b38",
   "metadata": {},
   "source": [
    "Medir el tiempo de ejecución de un programa es una tarea muy importante, ya que programar no sólo consiste en crear código que funcione, sino código que pueda ser ejecutado en un tiempo razonable.\n",
    "\n",
    "La librería **time** nos permite medir el tiempo de ejecución en Python, utilizando el método  `time()`."
   ]
  },
  {
   "cell_type": "code",
   "execution_count": 1,
   "id": "dc20e4d2",
   "metadata": {},
   "outputs": [
    {
     "name": "stdout",
     "output_type": "stream",
     "text": [
      "10.003474235534668\n"
     ]
    }
   ],
   "source": [
    "# Medida del tiempo de ejecucion con time\n",
    "import time\n",
    "inicio = time.time()\n",
    "\n",
    "# Código a medir\n",
    "time.sleep(10)\n",
    "# -------------\n",
    "\n",
    "fin = time.time()\n",
    "print(fin-inicio) # 1.0005340576171875"
   ]
  },
  {
   "attachments": {},
   "cell_type": "markdown",
   "id": "52b5fc0a",
   "metadata": {},
   "source": [
    "# Generación de números enteros aleatorios "
   ]
  },
  {
   "cell_type": "code",
   "execution_count": 2,
   "id": "ca5148de",
   "metadata": {},
   "outputs": [
    {
     "name": "stdout",
     "output_type": "stream",
     "text": [
      "[867, 488, 761, 524, 715, 734, 18, 336, 860, 179, 780, 977, 744, 157, 33, 469, 747, 672, 589, 549, 341, 820, 351, 375, 253, 550, 233, 866, 60, 119, 276, 688, 61, 159, 776, 736, 148, 214, 218, 850, 113, 954, 860, 876, 69, 307, 636, 328, 905, 439, 1000, 604, 642, 547, 877, 82, 756, 505, 251, 685, 832, 486, 652, 439, 573, 276, 219, 460, 570, 578, 136, 153, 652, 837, 149, 896, 296, 308, 73, 721, 54, 643, 921, 209, 954, 178, 209, 971, 997, 737, 135, 577, 691, 285, 83, 343, 158, 125, 257, 405]\n"
     ]
    }
   ],
   "source": [
    "# Mödulo random\n",
    "import random\n",
    "\n",
    "# Inicialización del rango de números a generar\n",
    "inicio= 0\n",
    "fin = 1000\n",
    "cantidad = 100\n",
    "\n",
    "# Lista de números aleatorios\n",
    "numeros_aleatorios = [random.randint(inicio,fin) for i in range(cantidad)]\n",
    "print(numeros_aleatorios)"
   ]
  },
  {
   "attachments": {},
   "cell_type": "markdown",
   "id": "c43d5913",
   "metadata": {},
   "source": [
    "# Ejercicios\n",
    "\n",
    "## Implementa  el algoritmo de Euclides para el cálculo del máximo común divisor de dos números enteros"
   ]
  },
  {
   "cell_type": "code",
   "execution_count": 19,
   "id": "af0a8a64",
   "metadata": {},
   "outputs": [],
   "source": [
    "# Algoritmos de Euclides. \n",
    "def euclides_algorithm_iter(m: int, n:int\n",
    ") -> int:\n",
    "    r = None\n",
    "    while n != 0:\n",
    "        r = m % n\n",
    "        m = n\n",
    "        n = r\n",
    "    \n",
    "    return m\n",
    "\n",
    "def euclides_algorithm_recur(m: int, n:int\n",
    ") -> int:\n",
    "    if n == 0:\n",
    "        return m\n",
    "    \n",
    "    r = m % n\n",
    "    return euclides_algorithm_recur(n, r)"
   ]
  },
  {
   "cell_type": "code",
   "execution_count": 111,
   "id": "81bea47d",
   "metadata": {},
   "outputs": [
    {
     "name": "stdout",
     "output_type": "stream",
     "text": [
      "12\n",
      "Tiempo de cálculo 0.000000000000000s\n",
      "12\n",
      "Tiempo de cálculo 0.000000000000000s\n"
     ]
    }
   ],
   "source": [
    "# Prueba del algoritmo\n",
    "init = time.time()\n",
    "\n",
    "print(euclides_algorithm_iter(48, 60))\n",
    "print(f'Tiempo de cálculo {time.time() - init:.15f}s')\n",
    "\n",
    "init = time.time()\n",
    "\n",
    "print(euclides_algorithm_recur(48, 60))\n",
    "print(f'Tiempo de cálculo {time.time() - init:.15f}s')"
   ]
  },
  {
   "attachments": {},
   "cell_type": "markdown",
   "id": "fab2198d",
   "metadata": {},
   "source": [
    "## Implementa el algoritmo de Herón para el cálculo de la raiz cuadrada de un número entero. Calcula la raiz cuadrada de 13 con un error inferior a 0.000001"
   ]
  },
  {
   "cell_type": "code",
   "execution_count": 109,
   "id": "5108153f",
   "metadata": {},
   "outputs": [],
   "source": [
    "# Algoritmo de Herón\n",
    "def raiz_cuadrada_heron(p, error):\n",
    "    # Aproximación inicial\n",
    "    x = p / 2\n",
    "\n",
    "    # Iteramos hasta que se alcance el error deseado\n",
    "    while abs(x**2 - p) > error:\n",
    "        x = (x + p / x) / 2\n",
    "\n",
    "    return x\n"
   ]
  },
  {
   "cell_type": "code",
   "execution_count": 114,
   "id": "32bfcfe8",
   "metadata": {},
   "outputs": [
    {
     "name": "stdout",
     "output_type": "stream",
     "text": [
      "Tiempo de cálculo 0.000000000000000s\n",
      "5.385164807289835\n"
     ]
    }
   ],
   "source": [
    "# Prueba del algoritmo\n",
    "init = time.time()\n",
    "\n",
    "resultado = raiz_cuadrada_heron(29, 0.000001)\n",
    "\n",
    "print(f'Tiempo de cálculo {time.time() - init:.15f}s')\n",
    "print(resultado)\n"
   ]
  },
  {
   "attachments": {},
   "cell_type": "markdown",
   "id": "9cbf8561",
   "metadata": {},
   "source": [
    "# Reto VC-1\n",
    "\n",
    "## Implementa el algoritmo de la Criba de Erastótenes para encontrar número primos. Encuentra los números primos entre los 10.000 primeros números naturales"
   ]
  },
  {
   "cell_type": "code",
   "execution_count": 102,
   "id": "288b5db6",
   "metadata": {},
   "outputs": [],
   "source": [
    "# Criba de Erastótenes\n",
    "# Escribe a ti tu código\n",
    "import numpy as np\n",
    "\n",
    "def criba_erastoteles(n):\n",
    "    # Seguimos el pseudocódigo compartido en las diapositivas\n",
    "    \n",
    "    # Crear una lista desde 2 a n\n",
    "    # Inicializamos un array con los valores y otro con la\n",
    "    # misma long pero booleano que hará de filtro\n",
    "    array_num = np.arange(2, n+1)\n",
    "    array_filter = np.ones(n-1, dtype=bool)\n",
    "\n",
    "    # Para i desde 2 hasta la raiz de n\n",
    "    for i in range(2, int(np.sqrt(n)) + 1):\n",
    "        # Si i no esta marcada\n",
    "        if array_filter[i-2] == True:\n",
    "            # Para j desde i hasta n/i\n",
    "            for j in range(i, int(n/i)+1):\n",
    "                # Marcamos ixj\n",
    "                array_filter[(i*j) - 2] = False\n",
    "\n",
    "    # Filtramos el array de num con el array booleano\n",
    "    # de marcados\n",
    "    array_num = array_num[array_filter]\n",
    "    \n",
    "    # Imprimimos por pantalla el array de num primos\n",
    "    print(array_num)\n",
    "\n",
    "    return    \n",
    "    \n"
   ]
  },
  {
   "cell_type": "code",
   "execution_count": 113,
   "id": "02e85ac2",
   "metadata": {},
   "outputs": [
    {
     "name": "stdout",
     "output_type": "stream",
     "text": [
      "[   2    3    5 ... 9949 9967 9973]\n",
      "Tiempo de cálculo 0.002000808715820s\n"
     ]
    }
   ],
   "source": [
    "init = time.time()\n",
    "\n",
    "criba_erastoteles(10000)\n",
    "print(f'Tiempo de cálculo {time.time() - init:.15f}s')"
   ]
  }
 ],
 "metadata": {
  "kernelspec": {
   "display_name": "Python 3 (ipykernel)",
   "language": "python",
   "name": "python3"
  },
  "language_info": {
   "codemirror_mode": {
    "name": "ipython",
    "version": 3
   },
   "file_extension": ".py",
   "mimetype": "text/x-python",
   "name": "python",
   "nbconvert_exporter": "python",
   "pygments_lexer": "ipython3",
   "version": "3.8.16"
  }
 },
 "nbformat": 4,
 "nbformat_minor": 5
}
