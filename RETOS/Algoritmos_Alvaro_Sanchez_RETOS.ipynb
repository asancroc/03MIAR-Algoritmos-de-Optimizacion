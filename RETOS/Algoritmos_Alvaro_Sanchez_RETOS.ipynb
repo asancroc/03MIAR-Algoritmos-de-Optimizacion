{
 "cells": [
  {
   "attachments": {},
   "cell_type": "markdown",
   "metadata": {},
   "source": [
    "# RETOS - Actividad Guiada 2\n",
    "Nombre: Alvaro Sanchez Rocamora<br>\n",
    "URL: \n",
    "\n",
    "https://github.com/asancroc/03MIAR-Algoritmos-de-Optimizacion/tree/master/RETOS\n",
    "<br>"
   ]
  },
  {
   "cell_type": "code",
   "execution_count": 145,
   "metadata": {},
   "outputs": [],
   "source": [
    "import time\n",
    "import matplotlib.pyplot as plt\n",
    "import random\n",
    "import numpy as np\n"
   ]
  },
  {
   "attachments": {},
   "cell_type": "markdown",
   "metadata": {},
   "source": [
    "### RETO 1 - Implementar el algoritmo de la Criba de Erastótenes para encontrar número primos"
   ]
  },
  {
   "cell_type": "code",
   "execution_count": 146,
   "metadata": {},
   "outputs": [],
   "source": [
    "# Criba de Erastótenes\n",
    "# Escribe a ti tu código\n",
    "def criba_erastoteles(n):\n",
    "    # Seguimos el pseudocódigo compartido en las diapositivas\n",
    "    \n",
    "    # Crear una lista desde 2 a n\n",
    "    # Inicializamos un array con los valores y otro con la\n",
    "    # misma long pero booleano que hará de filtro\n",
    "    array_num = np.arange(2, n+1)\n",
    "    array_filter = np.ones(n-1, dtype=bool)\n",
    "\n",
    "    # Para i desde 2 hasta la raiz de n\n",
    "    for i in range(2, int(np.sqrt(n)) + 1):\n",
    "        # Si i no esta marcada\n",
    "        if array_filter[i-2] == True:\n",
    "            # Para j desde i hasta n/i\n",
    "            for j in range(i, int(n/i)+1):\n",
    "                # Marcamos ixj\n",
    "                array_filter[(i*j) - 2] = False\n",
    "\n",
    "    # Filtramos el array de num con el array booleano\n",
    "    # de marcados\n",
    "    array_num = array_num[array_filter]\n",
    "    \n",
    "    # Imprimimos por pantalla el array de num primos\n",
    "    print(array_num)\n",
    "\n",
    "    return\n"
   ]
  },
  {
   "cell_type": "code",
   "execution_count": 147,
   "metadata": {},
   "outputs": [
    {
     "name": "stdout",
     "output_type": "stream",
     "text": [
      "[ 2  3  5  7 11 13 17 19 23 29 31 37 41 43 47 53 59 61 67 71 73 79 83 89\n",
      " 97]\n",
      "Tiempo de cálculo 0.00100088119506835938s\n"
     ]
    }
   ],
   "source": [
    "# Ejecutamos la prueba\n",
    "init = time.time()\n",
    "\n",
    "criba_erastoteles(100)\n",
    "print(f'Tiempo de cálculo {time.time() - init:.20f}s')"
   ]
  },
  {
   "attachments": {},
   "cell_type": "markdown",
   "metadata": {},
   "source": []
  },
  {
   "attachments": {},
   "cell_type": "markdown",
   "metadata": {},
   "source": [
    "### RETO 2 - Resolver el problema de las 8-Reinas"
   ]
  },
  {
   "cell_type": "code",
   "execution_count": 149,
   "metadata": {},
   "outputs": [],
   "source": [
    "# Implementación de las funciones\n",
    "def imprimir_tablero(tablero):\n",
    "    for i in range(8):\n",
    "        for j in range(8):\n",
    "            if tablero[i] == j:\n",
    "                print(\"♛\", end=\"\")\n",
    "            else:\n",
    "                print(\". \", end=\"\")\n",
    "        print()\n",
    "\n",
    "def es_viable(tablero, fila, columna):\n",
    "    # Verifica si hay una reina en la columna\n",
    "    for i in range(fila):\n",
    "        if tablero[i] == columna:\n",
    "            return False\n",
    "\n",
    "    # Verifica si hay una reina en la diagonal superior izquierda\n",
    "    i = fila - 1\n",
    "    j = columna - 1\n",
    "    while i >= 0 and j >= 0:\n",
    "        if tablero[i] == j:\n",
    "            return False\n",
    "        i -= 1\n",
    "        j -= 1\n",
    "\n",
    "    # Verifica si hay una reina en la diagonal superior derecha\n",
    "    i = fila - 1\n",
    "    j = columna + 1\n",
    "    while i >= 0 and j < 8:\n",
    "        if tablero[i] == j:\n",
    "            return False\n",
    "        i -= 1\n",
    "        j += 1\n",
    "\n",
    "    return True\n",
    "\n",
    "def resolver_8_reinas(tablero, fila):\n",
    "    if fila == 8:\n",
    "        # Caso en el que se colocan todas las reinas correctamente\n",
    "        imprimir_tablero(tablero)\n",
    "        return True\n",
    "\n",
    "    for columna in range(8):\n",
    "        if es_viable(tablero, fila, columna):\n",
    "            tablero[fila] = columna\n",
    "            if resolver_8_reinas(tablero, fila + 1):\n",
    "                return True\n",
    "            tablero[fila] = -1\n",
    "\n",
    "    return False"
   ]
  },
  {
   "cell_type": "code",
   "execution_count": 150,
   "metadata": {},
   "outputs": [
    {
     "name": "stdout",
     "output_type": "stream",
     "text": [
      "♛. . . . . . . \n",
      ". . . . ♛. . . \n",
      ". . . . . . . ♛\n",
      ". . . . . ♛. . \n",
      ". . ♛. . . . . \n",
      ". . . . . . ♛. \n",
      ". ♛. . . . . . \n",
      ". . . ♛. . . . \n"
     ]
    },
    {
     "data": {
      "text/plain": [
       "True"
      ]
     },
     "execution_count": 150,
     "metadata": {},
     "output_type": "execute_result"
    }
   ],
   "source": [
    "# Resolución del problema de las 8 reinas con una única solución\n",
    "# Inicializamos el tablero\n",
    "tablero = [-1, -1, -1, -1, -1, -1, -1, -1,]\n",
    "\n",
    "resolver_8_reinas(tablero, 0)"
   ]
  },
  {
   "attachments": {},
   "cell_type": "markdown",
   "metadata": {},
   "source": []
  },
  {
   "attachments": {},
   "cell_type": "markdown",
   "metadata": {},
   "source": [
    "### RETO 3 - Resolver el problema de las Torres de Hanoi para un número arbitrario de fichas"
   ]
  },
  {
   "cell_type": "code",
   "execution_count": 151,
   "metadata": {},
   "outputs": [],
   "source": [
    "# Torres de Hanoy\n",
    "# Escribe aquí tu código\n",
    "def hanoi(n, origen, auxiliar, destino):\n",
    "    if n > 1:\n",
    "        hanoi(n - 1, origen, destino, auxiliar)\n",
    "        print(f\"Mueve el disco {n} de {origen} a {destino}\")\n",
    "        hanoi(n - 1, auxiliar, origen, destino)\n",
    "\n",
    "    else:\n",
    "        print(f\"Mueve el disco 1 de {origen} a {destino}\")\n",
    "        return"
   ]
  },
  {
   "cell_type": "code",
   "execution_count": 152,
   "metadata": {},
   "outputs": [
    {
     "name": "stdout",
     "output_type": "stream",
     "text": [
      "Mueve el disco 1 de A a B\n",
      "Mueve el disco 2 de A a C\n",
      "Mueve el disco 1 de B a C\n",
      "Mueve el disco 3 de A a B\n",
      "Mueve el disco 1 de C a A\n",
      "Mueve el disco 2 de C a B\n",
      "Mueve el disco 1 de A a B\n",
      "Mueve el disco 4 de A a C\n",
      "Mueve el disco 1 de B a C\n",
      "Mueve el disco 2 de B a A\n",
      "Mueve el disco 1 de C a A\n",
      "Mueve el disco 3 de B a C\n",
      "Mueve el disco 1 de A a B\n",
      "Mueve el disco 2 de A a C\n",
      "Mueve el disco 1 de B a C\n",
      "Tiempo de cálculo 0.00000000000000000000s\n"
     ]
    }
   ],
   "source": [
    "# Probamos el codigo\n",
    "# Ejemplo usando 4 discos\n",
    "# Los discos estan nombrados numericamente, donde el valor mas\n",
    "# pequeño es el disco mas pequeño de tamaño\n",
    "num_disc = 4\n",
    "\n",
    "init = time.time()\n",
    "\n",
    "hanoi(num_disc, \"A\", \"B\", \"C\")\n",
    "print(f'Tiempo de cálculo {time.time() - init:.20f}s')"
   ]
  },
  {
   "attachments": {},
   "cell_type": "markdown",
   "metadata": {},
   "source": []
  },
  {
   "attachments": {},
   "cell_type": "markdown",
   "metadata": {},
   "source": [
    "### RETO 4 - Implementar el algoritmo del descenso por gradiente para el problema de la regresión lineal simple"
   ]
  },
  {
   "attachments": {},
   "cell_type": "markdown",
   "metadata": {},
   "source": [
    "En estadística, la regresión lineal es un enfoque lineal para modelizar la relación entre una variable dependiente y una o más variables independientes. Sea X la variable independiente e Y la variable dependiente. Definiremos una relación lineal entre estas dos variables como sigue:\n",
    "\n",
    "Y = m*X + c\n",
    "\n",
    "Ésta es la ecuación de una recta. Donde m es la pendiente de la recta y c es la intercepción con y. Estos valores nos los devolverá nuestra variable theta.\n"
   ]
  },
  {
   "cell_type": "code",
   "execution_count": 153,
   "metadata": {},
   "outputs": [],
   "source": [
    "# Implementación del descenso\n",
    "def descenso_gradiente(data, learning_rate, num_iteraciones):\n",
    "    num_muestras, num_caracteristicas = data.shape\n",
    "    X = data[:, 0]\n",
    "    y = data[:, 1]\n",
    "    \n",
    "    # Inicializamos los parámetros theta a cero\n",
    "    theta = np.zeros(num_caracteristicas)\n",
    "\n",
    "    for _ in range(num_iteraciones):\n",
    "        gradientes = np.zeros(num_caracteristicas)\n",
    "\n",
    "        # Calculamos los gradientes para cada parámetro theta\n",
    "        for i in range(num_muestras):\n",
    "            error = np.dot(X[i], theta) - y[i]\n",
    "            gradientes += error * X[i]\n",
    "\n",
    "        # Actualizamos los parámetros theta utilizando el learning rate y los gradientes\n",
    "        theta -= (learning_rate / num_muestras) * gradientes\n",
    "\n",
    "    return theta"
   ]
  },
  {
   "cell_type": "code",
   "execution_count": 154,
   "metadata": {},
   "outputs": [
    {
     "data": {
      "image/png": "[encoded data removed]",
      "text/plain": [
       "<Figure size 640x480 with 1 Axes>"
      ]
     },
     "metadata": {},
     "output_type": "display_data"
    }
   ],
   "source": [
    "# Prueba del código\n",
    "x = range(10)\n",
    "y = [2*i for i in x]\n",
    "data = np.array(list(zip(x,y)))\n",
    "\n",
    "plt.scatter(x, y)\n",
    "plt.show()"
   ]
  },
  {
   "cell_type": "code",
   "execution_count": 155,
   "metadata": {},
   "outputs": [
    {
     "name": "stdout",
     "output_type": "stream",
     "text": [
      "Parámetros óptimos:\n",
      "[0.49603258 0.49603258]\n"
     ]
    }
   ],
   "source": [
    "# Hiperparámetros\n",
    "learning_rate = 0.00001\n",
    "num_iteraciones = 1000\n",
    "\n",
    "# Ejecutamos la funcion del descenso por gradiente\n",
    "theta_optimo = descenso_gradiente(data, learning_rate, num_iteraciones)\n",
    "\n",
    "print(\"Parámetros óptimos:\")\n",
    "print(theta_optimo)"
   ]
  },
  {
   "cell_type": "code",
   "execution_count": 156,
   "metadata": {},
   "outputs": [
    {
     "data": {
      "image/png": "[encoded data removed]",
      "text/plain": [
       "<Figure size 640x480 with 1 Axes>"
      ]
     },
     "metadata": {},
     "output_type": "display_data"
    }
   ],
   "source": [
    "# Ploteamos el resultado\n",
    "Y_pred = theta_optimo[0]*data[:, 0] + theta_optimo[1]\n",
    "\n",
    "plt.scatter(data[:, 0], data[:, 1]) \n",
    "plt.plot([min(data[:, 0]), max(data[:, 0])], [min(Y_pred), max(Y_pred)], color='red')  # regression line\n",
    "plt.show()"
   ]
  },
  {
   "attachments": {},
   "cell_type": "markdown",
   "metadata": {},
   "source": []
  },
  {
   "attachments": {},
   "cell_type": "markdown",
   "metadata": {},
   "source": [
    "### RETO 5 - Mejorar la implementación de recocido simulado en la AG3 (TSP) eligiendo una generación de solución vecina con un grado de aleatoriedad menor"
   ]
  },
  {
   "attachments": {},
   "cell_type": "markdown",
   "metadata": {},
   "source": [
    "Se selecciona un nodo aleatorio i de manera similar a la solución anterior. Posteriormente, se crea una lista de vecinos candidatos excluyendo el nodo seleccionado i de la solución original. Esta alternativa reduce el grado de aleatoriedad al generar soluciones vecinas al limitar la elección del vecino a un conjunto de candidatos más restringido.\n",
    "\n",
    "A continuación, se elige un vecino aleatorio j de la lista de vecinos candidatos de forma aleatoria. Esto garantiza que el vecino seleccionado sea diferente al nodo original i.\n",
    "\n",
    "Finalmente, se genera la solución reemplazando el nodo seleccionado i por el vecino aleatorio j."
   ]
  },
  {
   "cell_type": "code",
   "execution_count": 160,
   "metadata": {},
   "outputs": [],
   "source": [
    "def genera_vecina_aleatorio(solucion):\n",
    "    # Seleccionamos un nodo aleatorio\n",
    "    i = random.randint(1, len(solucion)-1)\n",
    "    \n",
    "    # Generamos la lista de vecinos candidatos\n",
    "    vecinos_candidatos = [nodo for nodo in solucion if nodo != solucion[i]]\n",
    "    \n",
    "    # Selecciona un vecino aleatorio de la lista de candidatos\n",
    "    j = random.choice(vecinos_candidatos)\n",
    "    \n",
    "    # Reemplazammos el nodo seleccionado por el vecino aleatorio\n",
    "    solucion[i], solucion[j] = solucion[j], solucion[i]\n",
    "    \n",
    "    return solucion"
   ]
  }
 ],
 "metadata": {
  "kernelspec": {
   "display_name": "python-ia-master",
   "language": "python",
   "name": "python3"
  },
  "language_info": {
   "codemirror_mode": {
    "name": "ipython",
    "version": 3
   },
   "file_extension": ".py",
   "mimetype": "text/x-python",
   "name": "python",
   "nbconvert_exporter": "python",
   "pygments_lexer": "ipython3",
   "version": "3.8.16"
  },
  "orig_nbformat": 4
 },
 "nbformat": 4,
 "nbformat_minor": 2
}
